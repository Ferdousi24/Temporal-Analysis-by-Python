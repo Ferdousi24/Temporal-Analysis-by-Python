{
  "nbformat": 4,
  "nbformat_minor": 0,
  "metadata": {
    "colab": {
      "private_outputs": true,
      "provenance": [],
      "authorship_tag": "ABX9TyPcf47ChxFmYly9HmLJZbhn",
      "include_colab_link": true
    },
    "kernelspec": {
      "name": "python3",
      "display_name": "Python 3"
    },
    "language_info": {
      "name": "python"
    }
  },
  "cells": [
    {
      "cell_type": "markdown",
      "metadata": {
        "id": "view-in-github",
        "colab_type": "text"
      },
      "source": [
        "<a href=\"https://colab.research.google.com/github/Ferdousi24/project_5803/blob/main/project_paper.ipynb\" target=\"_parent\"><img src=\"https://colab.research.google.com/assets/colab-badge.svg\" alt=\"Open In Colab\"/></a>"
      ]
    },
    {
      "cell_type": "code",
      "execution_count": null,
      "metadata": {
        "id": "vDlkWrOMBGx9"
      },
      "outputs": [],
      "source": [
        "!pip install openeo\n",
        "!pip install matplotlib\n",
        "!pip install xarray\n",
        "!pip install rioxarray\n",
        "!pip install rasterio\n",
        "!pip install geopandas\n",
        "\n"
      ]
    },
    {
      "cell_type": "code",
      "source": [
        "import openeo\n",
        "import json\n",
        "import xarray as xr\n",
        "import rioxarray as rio\n",
        "\n",
        "import matplotlib.pyplot as plt\n",
        "import numpy as np\n",
        "import pandas as pd\n",
        "import geopandas as gpd\n",
        "\n",
        "from mpl_toolkits.axes_grid1 import make_axes_locatable\n",
        "\n",
        "import rasterio\n",
        "from rasterio.plot import show\n",
        "from rasterio.mask import mask\n",
        "\n",
        "\n",
        "\n",
        "\n"
      ],
      "metadata": {
        "id": "cO_9_Or8Bf4o"
      },
      "execution_count": null,
      "outputs": []
    },
    {
      "cell_type": "code",
      "source": [
        "connection = openeo.connect(\"openeo.dataspace.copernicus.eu\").authenticate_oidc()"
      ],
      "metadata": {
        "id": "cP1naqyQB5l7"
      },
      "execution_count": null,
      "outputs": []
    },
    {
      "cell_type": "code",
      "source": [
        "\n",
        "# Bounding box coordinates\n",
        "bounding_box = [44.96, -76.35, 45.53, -75.24]\n",
        "\n",
        "coordinates = [\n",
        "    [\n",
        "        [bounding_box[1], bounding_box[0]],\n",
        "        [bounding_box[1], bounding_box[2]],\n",
        "        [bounding_box[3], bounding_box[2]],\n",
        "        [bounding_box[3], bounding_box[0]],\n",
        "        [bounding_box[1], bounding_box[0]]\n",
        "    ]\n",
        "]\n",
        "\n",
        "aoi = {\n",
        "    \"type\": \"Polygon\",\n",
        "    \"coordinates\": coordinates\n",
        "}\n",
        "\n",
        "\n",
        "\n"
      ],
      "metadata": {
        "id": "FN0TZGSHX0QW"
      },
      "execution_count": null,
      "outputs": []
    },
    {
      "cell_type": "code",
      "source": [
        "# Bounding box coordinates\n",
        "bounding_box = [44.96, -76.35, 45.53, -75.24]\n",
        "\n",
        "# Constructing spatial extent\n",
        "spatial_extent = {\n",
        "    \"west\": bounding_box[1],\n",
        "    \"south\": bounding_box[0],\n",
        "    \"east\": bounding_box[3],\n",
        "    \"north\": bounding_box[2]\n",
        "}\n",
        "\n"
      ],
      "metadata": {
        "id": "H2V6fykYCQ9I"
      },
      "execution_count": null,
      "outputs": []
    },
    {
      "cell_type": "code",
      "source": [
        "methane = connection.load_collection(\n",
        "    \"SENTINEL_5P_L2\",\n",
        "    temporal_extent=[\"2023-03-01\", \"2024-03-31\"],\n",
        "    spatial_extent={'west': -76.35, 'south': 44.96, 'east': -75.24, 'north': 45.53},\n",
        "    bands=[\"CH4\"],\n",
        ")"
      ],
      "metadata": {
        "id": "clbL7RqSCbJ6"
      },
      "execution_count": null,
      "outputs": []
    },
    {
      "cell_type": "code",
      "source": [
        "from google.colab import drive\n",
        "drive.mount('/content/drive')\n",
        "\n",
        "#methane.download(\"/content/drive/MyDrive/R-CH4.nc\")"
      ],
      "metadata": {
        "id": "tBIM3j1VCxmE"
      },
      "execution_count": null,
      "outputs": []
    },
    {
      "cell_type": "code",
      "source": [
        "ncfile = xr.open_dataset(\"/content/drive/MyDrive/R-CH4.nc\", decode_coords=\"all\")\n",
        "\n"
      ],
      "metadata": {
        "id": "AW9IUzRuk7u0"
      },
      "execution_count": null,
      "outputs": []
    },
    {
      "cell_type": "code",
      "source": [
        "daily_average = ncfile['CH4'].mean(dim='t')\n"
      ],
      "metadata": {
        "id": "NMpWXevuG16L"
      },
      "execution_count": null,
      "outputs": []
    },
    {
      "cell_type": "code",
      "source": [
        "\n",
        "# Calculate statistics\n",
        "mean_value = daily_average.mean().values\n",
        "median_value = np.median(daily_average.values)\n",
        "min_value = daily_average.min().values\n",
        "max_value = daily_average.max().values\n",
        "\n",
        "# Visualize distribution with a histogram\n",
        "plt.hist(daily_average.values.flatten(), bins=50, color='blue', alpha=0.7)\n",
        "plt.axvline(x=mean_value, color='red', linestyle='--', label=f'Mean: {mean_value:.2f}')\n",
        "plt.axvline(x=median_value, color='green', linestyle='--', label=f'Median: {median_value:.2f}')\n",
        "plt.xlabel('Methane Concentration (ppb)')\n",
        "plt.ylabel('Frequency')\n",
        "plt.title('Distribution of Daily Average Methane Concentration')\n",
        "plt.legend()\n",
        "plt.show()\n",
        "\n",
        "vmin = min_value\n",
        "vmax = max_value\n"
      ],
      "metadata": {
        "id": "D-3thpwKHZWF"
      },
      "execution_count": null,
      "outputs": []
    },
    {
      "cell_type": "code",
      "source": [
        "\n",
        "cmmap = plt.cm.get_cmap(\"jet\")\n",
        "cmmap.set_bad('dimgrey', 1.)\n",
        "\n",
        "# Displaying the variable 'z' i.e., methane concentration\n",
        "fig, ax = plt.subplots()\n",
        "divider = make_axes_locatable(ax)\n",
        "cax = divider.append_axes('right', size='5%', pad=0.05)\n",
        "\n",
        "# Plot the methane concentration data\n",
        "im = ax.imshow(asi_mt, cmap=cmmap, vmin=1800, vmax=2000)  #  vmin and vmax according to data\n",
        "\n",
        "# Add colorbar\n",
        "fig.colorbar(im, cax=cax, orientation='vertical', label='CH4 Concentration (ppb)')\n",
        "\n",
        "# Hide x and y axes\n",
        "ax.axes.xaxis.set_visible(False)\n",
        "ax.axes.yaxis.set_visible(False)\n",
        "\n",
        "# Set plot size and title\n",
        "plt.gcf().set_size_inches(15, 15)\n",
        "ax.set_title('Daily Average Methane Concentration', fontsize=20)\n",
        "\n",
        "# Set DPI (dots per inch) for the figure\n",
        "fig.set_dpi(300.0)\n",
        "\n",
        "# Show the plot\n",
        "plt.show()"
      ],
      "metadata": {
        "id": "IX5rnda_Ec0B"
      },
      "execution_count": null,
      "outputs": []
    },
    {
      "cell_type": "code",
      "source": [
        "# Calculate monthly average\n",
        "monthly_average = ncfile['CH4'].resample(t='1M').mean(dim='t', skipna=True)\n",
        "average_final = np.nanmean(monthly_average, axis=(1, 2))\n",
        "\n",
        "\n",
        "time_values = monthly_average['t'].values\n",
        "\n",
        "time_index = pd.to_datetime(time_values)\n",
        "\n",
        "# Plot the time series\n",
        "plt.plot(time_index, average_final, marker='o', linestyle='-')\n",
        "plt.xlabel('Time')\n",
        "plt.ylabel('Average Methane Concentration (ppb)')\n",
        "plt.title('Time Series of Average Methane Concentration over AOI')\n",
        "\n",
        "# Format x-axis to display month names\n",
        "plt.xticks(time_index, [x.strftime('%b\\n%Y') for x in time_index], rotation=45, ha='right')\n",
        "\n",
        "plt.grid(True)\n",
        "plt.tight_layout()\n",
        "plt.show()\n"
      ],
      "metadata": {
        "id": "KZxbm2KFH268"
      },
      "execution_count": null,
      "outputs": []
    },
    {
      "cell_type": "code",
      "source": [
        "\n",
        "output_dir = \"/content/drive/MyDrive/\"\n",
        "daily_average.to_netcdf(output_dir + \"daily_average.nc\")\n",
        "\n",
        "dncfile = xr.open_dataset('/content/drive/MyDrive//daily_average.nc')\n",
        "asi_mt=dncfile.variables['CH4'][:]"
      ],
      "metadata": {
        "id": "eYGw59fLOH-u"
      },
      "execution_count": null,
      "outputs": []
    },
    {
      "cell_type": "code",
      "source": [
        "#Open the daily_average nc file\n",
        "dncfile = xr.open_dataset('/content/drive/MyDrive//daily_average.nc')\n",
        "#print(dncfile)\n",
        "#CH4 variables\n",
        "mt=dncfile.variables['CH4'][:]\n",
        "\n",
        "\n"
      ],
      "metadata": {
        "id": "dl-RfJJYOhYk"
      },
      "execution_count": null,
      "outputs": []
    },
    {
      "cell_type": "code",
      "source": [
        "#Checking the logitude range\n",
        "longitude = dncfile['x']\n",
        "\n",
        "# Check the range of longitude values\n",
        "min_longitude = longitude.min().item()\n",
        "max_longitude = longitude.max().item()\n",
        "\n",
        "# Determine if the range is within 180 or 360\n",
        "if min_longitude >= 0 and max_longitude <= 360:\n",
        "    print(\"Longitude data is in the range of 0-360 degrees.\")\n",
        "elif min_longitude >= -180 and max_longitude <= 180:\n",
        "    print(\"Longitude data is in the range of +/- 180 degrees.\")\n",
        "else:\n",
        "    print(\"Longitude data does not match the expected range.\")"
      ],
      "metadata": {
        "id": "pj4EguJzkkzt"
      },
      "execution_count": null,
      "outputs": []
    },
    {
      "cell_type": "code",
      "source": [
        "#Reading the shapefile\n",
        "s_aoi = gpd.read_file(\"/Ottawa_Neighbourhood_Study_(ONS)_-_Neighbourhood_Boundaries_Gen_2.shp\")\n",
        "print(s_aoi.crs)\n",
        "print(s_aoi.total_bounds)\n",
        "\n"
      ],
      "metadata": {
        "id": "8rCrV2BWJylL"
      },
      "execution_count": null,
      "outputs": []
    },
    {
      "cell_type": "code",
      "source": [
        "# transform the crs according to shapefile\n",
        "mt = mt.rio.set_spatial_dims('x', 'y')\n",
        "\n",
        "mt.rio.set_crs(\"epsg:4326\")\n",
        "#mt.rio.write_nodata(-9999)\n",
        "print(mt.rio.crs)\n",
        "\n",
        "mt.rio.to_raster(r\"GeoTIFF.tif\")"
      ],
      "metadata": {
        "id": "ZlADbYMwOSP6"
      },
      "execution_count": null,
      "outputs": []
    },
    {
      "cell_type": "code",
      "source": [
        "# open the geotiff file and check properties\n",
        "ras=rasterio.open('/content/GeoTIFF.tif')\n",
        "ras.meta\n",
        "print(ras.meta)"
      ],
      "metadata": {
        "id": "I2n-YEzjLF-6"
      },
      "execution_count": null,
      "outputs": []
    },
    {
      "cell_type": "code",
      "source": [
        "#plotting the shapefile and raster\n",
        "fig, ax = plt.subplots(1, 2)\n",
        "\n",
        "# Show the raster\n",
        "show(ras, ax=ax[0], title=\"Methane Concentration\")\n",
        "\n",
        "# Plot the shapefile\n",
        "s_aoi.plot(ax=ax[1], facecolor='none', edgecolor='black')\n",
        "#showing the raster and shapefile\n",
        "plt.show()"
      ],
      "metadata": {
        "id": "5SFccBffLUJV"
      },
      "execution_count": null,
      "outputs": []
    },
    {
      "cell_type": "code",
      "source": [
        "\n",
        "# Clip the raster to the extent of the shapefile\n",
        "ras_clipped, ras_transform = mask(rasterio.open('/content/GeoTIFF.tif'), s_aoi.geometry, crop=True)\n",
        "\n",
        "fig, ax = plt.subplots(figsize=(10, 5))\n",
        "\n",
        "# Show the clipped raster\n",
        "show(ras_clipped, ax=ax, title=\"Methane\")\n",
        "\n",
        "# Show the plot\n",
        "plt.show()\n"
      ],
      "metadata": {
        "id": "YsmC8aYLu_aR"
      },
      "execution_count": null,
      "outputs": []
    },
    {
      "cell_type": "code",
      "source": [],
      "metadata": {
        "id": "PG_9Hjv75vZe"
      },
      "execution_count": null,
      "outputs": []
    },
    {
      "cell_type": "code",
      "source": [],
      "metadata": {
        "id": "RPC0mXEO5wuz"
      },
      "execution_count": null,
      "outputs": []
    },
    {
      "cell_type": "code",
      "source": [],
      "metadata": {
        "id": "UJIymJk7AlKI"
      },
      "execution_count": null,
      "outputs": []
    }
  ]
}